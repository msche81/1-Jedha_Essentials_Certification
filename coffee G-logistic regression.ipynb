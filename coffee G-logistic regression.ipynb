{
 "cells": [
  {
   "cell_type": "code",
   "execution_count": 9,
   "id": "48172d00-c9ac-49b3-9c0a-ebb58ba4bb11",
   "metadata": {
    "tags": []
   },
   "outputs": [],
   "source": [
    "import pandas as pd\n",
    "import numpy as np \n",
    "import matplotlib.pyplot as plt \n",
    "import seaborn as sns \n",
    "from sklearn.model_selection import train_test_split\n",
    "from sklearn.preprocessing import StandardScaler, OneHotEncoder, LabelEncoder\n",
    "from sklearn.compose import ColumnTransformer\n",
    "from sklearn.linear_model import LogisticRegression\n",
    "from sklearn.tree import DecisionTreeClassifier\n",
    "from sklearn.ensemble import RandomForestClassifier\n",
    "from sklearn.metrics import confusion_matrix, ConfusionMatrixDisplay\n",
    "from sklearn.datasets import load_iris"
   ]
  },
  {
   "cell_type": "code",
   "execution_count": 10,
   "id": "c9e67757-058e-4d9b-9893-d93a5a81a3d6",
   "metadata": {
    "tags": []
   },
   "outputs": [
    {
     "data": {
      "text/plain": [
       "(207, 41)"
      ]
     },
     "execution_count": 10,
     "metadata": {},
     "output_type": "execute_result"
    }
   ],
   "source": [
    "df = pd.read_csv(\"df_arabica_clean.csv\")\n",
    "df.shape"
   ]
  },
  {
   "cell_type": "code",
   "execution_count": 11,
   "id": "0bb647f1-3379-473d-8bae-c95fb3a0a0e5",
   "metadata": {},
   "outputs": [],
   "source": [
    "# Comptage des mentions de chaque pays\n",
    "country_counts = df['Country of Origin'].value_counts().reset_index()\n",
    "country_counts.columns = ['Country of Origin', 'count']"
   ]
  },
  {
   "cell_type": "code",
   "execution_count": 12,
   "id": "e23d35a2-2651-4113-a0a0-c71e0236a43e",
   "metadata": {
    "tags": []
   },
   "outputs": [
    {
     "name": "stdout",
     "output_type": "stream",
     "text": [
      "               Country of Origin  count\n",
      "0                         Taiwan     61\n",
      "1                      Guatemala     21\n",
      "2                       Colombia     19\n",
      "3                       Honduras     13\n",
      "4                       Thailand     12\n",
      "5                       Ethiopia     11\n",
      "6                         Brazil     10\n",
      "7                     Costa Rica      8\n",
      "8                      Nicaragua      7\n",
      "9                    El Salvador      7\n",
      "10  Tanzania, United Republic Of      6\n",
      "11        United States (Hawaii)      5\n",
      "12                        Mexico      4\n",
      "13                          Peru      4\n",
      "14                       Vietnam      4\n",
      "15                        Uganda      3\n",
      "16                     Indonesia      3\n",
      "17                          Laos      3\n",
      "18                        Panama      2\n",
      "19                         Kenya      2\n",
      "20                    Madagascar      1\n",
      "21                       Myanmar      1\n"
     ]
    }
   ],
   "source": [
    "# Affichage des résultats\n",
    "print(country_counts)"
   ]
  },
  {
   "cell_type": "code",
   "execution_count": 13,
   "id": "0e114225-cafe-4181-ab3c-bb21afaa60bc",
   "metadata": {
    "tags": []
   },
   "outputs": [
    {
     "name": "stdout",
     "output_type": "stream",
     "text": [
      "147\n"
     ]
    }
   ],
   "source": [
    "# Additionner les valeurs de la colonne 'count' des 6 premières lignes\n",
    "total_iteration_count = country_counts['count'].head(7).sum()\n",
    "print(total_iteration_count)"
   ]
  },
  {
   "cell_type": "code",
   "execution_count": 14,
   "id": "004d1ba1-7b63-4287-baed-6f56870909cd",
   "metadata": {
    "tags": []
   },
   "outputs": [],
   "source": [
    "# Calcul du pourcentage pour chaque pays\n",
    "country_counts['percentage'] = (country_counts['count'] / country_counts['count'].sum()) * 100"
   ]
  },
  {
   "cell_type": "code",
   "execution_count": 15,
   "id": "7fdfcdff-1e11-4c15-9d54-f35fba1351dd",
   "metadata": {
    "tags": []
   },
   "outputs": [
    {
     "name": "stdout",
     "output_type": "stream",
     "text": [
      "               Country of Origin  count  percentage\n",
      "0                         Taiwan     61   29.468599\n",
      "1                      Guatemala     21   10.144928\n",
      "2                       Colombia     19    9.178744\n",
      "3                       Honduras     13    6.280193\n",
      "4                       Thailand     12    5.797101\n",
      "5                       Ethiopia     11    5.314010\n",
      "6                         Brazil     10    4.830918\n",
      "7                     Costa Rica      8    3.864734\n",
      "8                      Nicaragua      7    3.381643\n",
      "9                    El Salvador      7    3.381643\n",
      "10  Tanzania, United Republic Of      6    2.898551\n",
      "11        United States (Hawaii)      5    2.415459\n",
      "12                        Mexico      4    1.932367\n",
      "13                          Peru      4    1.932367\n",
      "14                       Vietnam      4    1.932367\n",
      "15                        Uganda      3    1.449275\n",
      "16                     Indonesia      3    1.449275\n",
      "17                          Laos      3    1.449275\n",
      "18                        Panama      2    0.966184\n",
      "19                         Kenya      2    0.966184\n",
      "20                    Madagascar      1    0.483092\n",
      "21                       Myanmar      1    0.483092\n"
     ]
    }
   ],
   "source": [
    "# Affichage des résultats\n",
    "print(country_counts)"
   ]
  },
  {
   "cell_type": "code",
   "execution_count": 16,
   "id": "15649f71-852a-419e-864c-b571024c28f5",
   "metadata": {
    "tags": []
   },
   "outputs": [],
   "source": [
    "pays_conserves = [\"Taiwan\", \"Guatemala\"]"
   ]
  },
  {
   "cell_type": "code",
   "execution_count": 17,
   "id": "574202a7-fb14-4970-a4c7-0a385b41d185",
   "metadata": {
    "tags": []
   },
   "outputs": [],
   "source": [
    "# Remplacer les autres pays par 'other'\n",
    "df['Country of Origin'] = df['Country of Origin'].apply(lambda x: x if x in pays_conserves else 'Other')"
   ]
  },
  {
   "cell_type": "code",
   "execution_count": 19,
   "id": "ff972a01-0d77-4946-adac-1c4e2d3d3d90",
   "metadata": {
    "tags": []
   },
   "outputs": [
    {
     "data": {
      "image/png": "[encoded data removed]",
      "text/plain": [
       "<Figure size 640x480 with 1 Axes>"
      ]
     },
     "metadata": {},
     "output_type": "display_data"
    }
   ],
   "source": [
    "# Création du graphique\n",
    "sns.barplot(x='count', y='Country of Origin', data=country_counts)\n",
    "plt.xlabel('nombre')\n",
    "plt.ylabel('Country of Origin')\n",
    "plt.title('Nombre de mentions par pays')\n",
    "plt.xticks(rotation=90)\n",
    "plt.show()"
   ]
  },
  {
   "cell_type": "code",
   "execution_count": 28,
   "id": "dfbca872-0e39-4876-9a83-e0c4bfcbfda9",
   "metadata": {
    "tags": []
   },
   "outputs": [],
   "source": [
    "# Comptage des mentions de chaque pays\n",
    "country_counts = df['Country of Origin'].value_counts().reset_index()\n",
    "country_counts.columns = ['Country of Origin', 'count']"
   ]
  },
  {
   "cell_type": "code",
   "execution_count": 31,
   "id": "7cda7268-b731-4e13-9f3f-3e74a62638ca",
   "metadata": {
    "tags": []
   },
   "outputs": [
    {
     "name": "stdout",
     "output_type": "stream",
     "text": [
      "  Country of Origin  count\n",
      "0             Other    125\n",
      "1            Taiwan     61\n",
      "2         Guatemala     21\n"
     ]
    }
   ],
   "source": [
    "# Affichage des résultats\n",
    "print(country_counts)"
   ]
  },
  {
   "cell_type": "code",
   "execution_count": 33,
   "id": "df3e3374-58eb-45ab-bd5c-0afd810c984a",
   "metadata": {
    "tags": []
   },
   "outputs": [
    {
     "data": {
      "text/html": [
       "<div>\n",
       "<style scoped>\n",
       "    .dataframe tbody tr th:only-of-type {\n",
       "        vertical-align: middle;\n",
       "    }\n",
       "\n",
       "    .dataframe tbody tr th {\n",
       "        vertical-align: top;\n",
       "    }\n",
       "\n",
       "    .dataframe thead th {\n",
       "        text-align: right;\n",
       "    }\n",
       "</style>\n",
       "<table border=\"1\" class=\"dataframe\">\n",
       "  <thead>\n",
       "    <tr style=\"text-align: right;\">\n",
       "      <th></th>\n",
       "      <th>Aroma</th>\n",
       "      <th>Flavor</th>\n",
       "      <th>Aftertaste</th>\n",
       "      <th>Acidity</th>\n",
       "      <th>Body</th>\n",
       "      <th>Balance</th>\n",
       "      <th>Uniformity</th>\n",
       "      <th>Clean Cup</th>\n",
       "      <th>Sweetness</th>\n",
       "      <th>Overall</th>\n",
       "    </tr>\n",
       "  </thead>\n",
       "  <tbody>\n",
       "    <tr>\n",
       "      <th>Aroma</th>\n",
       "      <td>1.000000</td>\n",
       "      <td>0.676964</td>\n",
       "      <td>0.629480</td>\n",
       "      <td>0.508255</td>\n",
       "      <td>0.400816</td>\n",
       "      <td>0.555991</td>\n",
       "      <td>0.000788</td>\n",
       "      <td>NaN</td>\n",
       "      <td>NaN</td>\n",
       "      <td>0.642827</td>\n",
       "    </tr>\n",
       "    <tr>\n",
       "      <th>Flavor</th>\n",
       "      <td>0.676964</td>\n",
       "      <td>1.000000</td>\n",
       "      <td>0.768798</td>\n",
       "      <td>0.657614</td>\n",
       "      <td>0.547389</td>\n",
       "      <td>0.725539</td>\n",
       "      <td>0.001581</td>\n",
       "      <td>NaN</td>\n",
       "      <td>NaN</td>\n",
       "      <td>0.770619</td>\n",
       "    </tr>\n",
       "    <tr>\n",
       "      <th>Aftertaste</th>\n",
       "      <td>0.629480</td>\n",
       "      <td>0.768798</td>\n",
       "      <td>1.000000</td>\n",
       "      <td>0.663310</td>\n",
       "      <td>0.545640</td>\n",
       "      <td>0.742959</td>\n",
       "      <td>0.000572</td>\n",
       "      <td>NaN</td>\n",
       "      <td>NaN</td>\n",
       "      <td>0.749284</td>\n",
       "    </tr>\n",
       "    <tr>\n",
       "      <th>Acidity</th>\n",
       "      <td>0.508255</td>\n",
       "      <td>0.657614</td>\n",
       "      <td>0.663310</td>\n",
       "      <td>1.000000</td>\n",
       "      <td>0.585507</td>\n",
       "      <td>0.648404</td>\n",
       "      <td>0.003914</td>\n",
       "      <td>NaN</td>\n",
       "      <td>NaN</td>\n",
       "      <td>0.706579</td>\n",
       "    </tr>\n",
       "    <tr>\n",
       "      <th>Body</th>\n",
       "      <td>0.400816</td>\n",
       "      <td>0.547389</td>\n",
       "      <td>0.545640</td>\n",
       "      <td>0.585507</td>\n",
       "      <td>1.000000</td>\n",
       "      <td>0.666016</td>\n",
       "      <td>0.001928</td>\n",
       "      <td>NaN</td>\n",
       "      <td>NaN</td>\n",
       "      <td>0.595378</td>\n",
       "    </tr>\n",
       "    <tr>\n",
       "      <th>Balance</th>\n",
       "      <td>0.555991</td>\n",
       "      <td>0.725539</td>\n",
       "      <td>0.742959</td>\n",
       "      <td>0.648404</td>\n",
       "      <td>0.666016</td>\n",
       "      <td>1.000000</td>\n",
       "      <td>0.007932</td>\n",
       "      <td>NaN</td>\n",
       "      <td>NaN</td>\n",
       "      <td>0.782282</td>\n",
       "    </tr>\n",
       "    <tr>\n",
       "      <th>Uniformity</th>\n",
       "      <td>0.000788</td>\n",
       "      <td>0.001581</td>\n",
       "      <td>0.000572</td>\n",
       "      <td>0.003914</td>\n",
       "      <td>0.001928</td>\n",
       "      <td>0.007932</td>\n",
       "      <td>1.000000</td>\n",
       "      <td>NaN</td>\n",
       "      <td>NaN</td>\n",
       "      <td>0.005565</td>\n",
       "    </tr>\n",
       "    <tr>\n",
       "      <th>Clean Cup</th>\n",
       "      <td>NaN</td>\n",
       "      <td>NaN</td>\n",
       "      <td>NaN</td>\n",
       "      <td>NaN</td>\n",
       "      <td>NaN</td>\n",
       "      <td>NaN</td>\n",
       "      <td>NaN</td>\n",
       "      <td>NaN</td>\n",
       "      <td>NaN</td>\n",
       "      <td>NaN</td>\n",
       "    </tr>\n",
       "    <tr>\n",
       "      <th>Sweetness</th>\n",
       "      <td>NaN</td>\n",
       "      <td>NaN</td>\n",
       "      <td>NaN</td>\n",
       "      <td>NaN</td>\n",
       "      <td>NaN</td>\n",
       "      <td>NaN</td>\n",
       "      <td>NaN</td>\n",
       "      <td>NaN</td>\n",
       "      <td>NaN</td>\n",
       "      <td>NaN</td>\n",
       "    </tr>\n",
       "    <tr>\n",
       "      <th>Overall</th>\n",
       "      <td>0.642827</td>\n",
       "      <td>0.770619</td>\n",
       "      <td>0.749284</td>\n",
       "      <td>0.706579</td>\n",
       "      <td>0.595378</td>\n",
       "      <td>0.782282</td>\n",
       "      <td>0.005565</td>\n",
       "      <td>NaN</td>\n",
       "      <td>NaN</td>\n",
       "      <td>1.000000</td>\n",
       "    </tr>\n",
       "  </tbody>\n",
       "</table>\n",
       "</div>"
      ],
      "text/plain": [
       "               Aroma    Flavor  Aftertaste   Acidity      Body   Balance  \\\n",
       "Aroma       1.000000  0.676964    0.629480  0.508255  0.400816  0.555991   \n",
       "Flavor      0.676964  1.000000    0.768798  0.657614  0.547389  0.725539   \n",
       "Aftertaste  0.629480  0.768798    1.000000  0.663310  0.545640  0.742959   \n",
       "Acidity     0.508255  0.657614    0.663310  1.000000  0.585507  0.648404   \n",
       "Body        0.400816  0.547389    0.545640  0.585507  1.000000  0.666016   \n",
       "Balance     0.555991  0.725539    0.742959  0.648404  0.666016  1.000000   \n",
       "Uniformity  0.000788  0.001581    0.000572  0.003914  0.001928  0.007932   \n",
       "Clean Cup        NaN       NaN         NaN       NaN       NaN       NaN   \n",
       "Sweetness        NaN       NaN         NaN       NaN       NaN       NaN   \n",
       "Overall     0.642827  0.770619    0.749284  0.706579  0.595378  0.782282   \n",
       "\n",
       "            Uniformity  Clean Cup  Sweetness   Overall  \n",
       "Aroma         0.000788        NaN        NaN  0.642827  \n",
       "Flavor        0.001581        NaN        NaN  0.770619  \n",
       "Aftertaste    0.000572        NaN        NaN  0.749284  \n",
       "Acidity       0.003914        NaN        NaN  0.706579  \n",
       "Body          0.001928        NaN        NaN  0.595378  \n",
       "Balance       0.007932        NaN        NaN  0.782282  \n",
       "Uniformity    1.000000        NaN        NaN  0.005565  \n",
       "Clean Cup          NaN        NaN        NaN       NaN  \n",
       "Sweetness          NaN        NaN        NaN       NaN  \n",
       "Overall       0.005565        NaN        NaN  1.000000  "
      ]
     },
     "execution_count": 33,
     "metadata": {},
     "output_type": "execute_result"
    }
   ],
   "source": [
    "# Affichage les corrélations\n",
    "numerics = ['int16', 'int32', 'int64', 'float16', 'float32', 'float64']\n",
    "\n",
    "newdf = df.select_dtypes(include=numerics)\n",
    "newdf.iloc[:,range(3,13)].corr()**2\n"
   ]
  },
  {
   "cell_type": "code",
   "execution_count": 35,
   "id": "a937c1c8-e625-4246-9c28-97b0b875a2c5",
   "metadata": {
    "tags": []
   },
   "outputs": [
    {
     "data": {
      "image/png": "[encoded data removed]",
      "text/plain": [
       "<Figure size 700x700 with 2 Axes>"
      ]
     },
     "metadata": {},
     "output_type": "display_data"
    }
   ],
   "source": [
    "df_matrix = newdf.loc[:,[\"Aroma\",\"Flavor\",\"Aftertaste\",\"Acidity\",\"Body\",\"Balance\"]].corr()\n",
    "\n",
    "plt.figure(figsize=(7, 7))\n",
    "sns.heatmap(df_matrix, annot=True, cmap='coolwarm', vmin=-1, vmax=1)\n",
    "plt.title('Correlation Heatmap')\n",
    "plt.show()"
   ]
  },
  {
   "cell_type": "code",
   "execution_count": 37,
   "id": "9f50f197-01c4-4e50-aee4-04316da2b4f6",
   "metadata": {
    "tags": []
   },
   "outputs": [
    {
     "data": {
      "text/plain": [
       "Unnamed: 0               False\n",
       "ID                       False\n",
       "Country of Origin        False\n",
       "Farm Name                 True\n",
       "Lot Number                True\n",
       "Mill                      True\n",
       "ICO Number                True\n",
       "Company                  False\n",
       "Altitude                  True\n",
       "Region                    True\n",
       "Producer                  True\n",
       "Number of Bags           False\n",
       "Bag Weight               False\n",
       "In-Country Partner       False\n",
       "Harvest Year             False\n",
       "Grading Date             False\n",
       "Owner                    False\n",
       "Variety                   True\n",
       "Status                   False\n",
       "Processing Method         True\n",
       "Aroma                    False\n",
       "Flavor                   False\n",
       "Aftertaste               False\n",
       "Acidity                  False\n",
       "Body                     False\n",
       "Balance                  False\n",
       "Uniformity               False\n",
       "Clean Cup                False\n",
       "Sweetness                False\n",
       "Overall                  False\n",
       "Defects                  False\n",
       "Total Cup Points         False\n",
       "Moisture Percentage      False\n",
       "Category One Defects     False\n",
       "Quakers                  False\n",
       "Color                    False\n",
       "Category Two Defects     False\n",
       "Expiration               False\n",
       "Certification Body       False\n",
       "Certification Address    False\n",
       "Certification Contact    False\n",
       "dtype: bool"
      ]
     },
     "execution_count": 37,
     "metadata": {},
     "output_type": "execute_result"
    }
   ],
   "source": [
    "# Apercu de la BDD pour la cleaner\n",
    "df.isnull().any()"
   ]
  },
  {
   "cell_type": "code",
   "execution_count": 39,
   "id": "fced3eed-fe84-4a70-87cf-9cc98121df41",
   "metadata": {
    "tags": []
   },
   "outputs": [],
   "source": [
    "# Définir les features + le x & y\n",
    "features_list = [\"Aroma\", \"Flavor\", \"Aftertaste\", \"Acidity\",\"Body\",\"Balance\",\"Category Two Defects\",\"Quakers\"] # composantes de x\n",
    "x = df.loc[:,features_list]\n",
    "y = df.loc[:,\"Country of Origin\"]"
   ]
  },
  {
   "cell_type": "code",
   "execution_count": 41,
   "id": "e36ee37a-5beb-4186-b25c-72f71fdd7292",
   "metadata": {
    "tags": []
   },
   "outputs": [
    {
     "name": "stdout",
     "output_type": "stream",
     "text": [
      "     Unnamed: 0   ID Country of Origin                      Farm Name  \\\n",
      "0            72   72            Taiwan               917農場 (917 Farm)   \n",
      "1             1    1            Taiwan       Royal Bean Geisha Estate   \n",
      "2           196  196             Other       EXPORTADORA ATLANTIC S.A   \n",
      "3           145  145             Other   Doi Tung Development Project   \n",
      "4           184  184             Other            Fazenda Olhos Dagua   \n",
      "..          ...  ...               ...                            ...   \n",
      "202          58   58            Taiwan                         嵐雲綠海咖啡   \n",
      "203          37   37            Taiwan   御香咖啡園 YU SIANG Coffee Estate   \n",
      "204          99   99         Guatemala        SAN RAFAEL URIAS VALDES   \n",
      "205          32   32            Taiwan  金讚咖啡農莊園(Jinzan Coffee Estate)   \n",
      "206          76   76             Other  Bisrat Melaku Washing Station   \n",
      "\n",
      "                                  Lot Number                           Mill  \\\n",
      "0                                    2021/11               917農場 (917 Farm)   \n",
      "1    The 2022 Pacific Rim Coffee Summit,T037       Royal Bean Geisha Estate   \n",
      "2                               017/053/0603                         Lavado   \n",
      "3                GAYO 21/22 (Coffea Arabica)                       Dry Mill   \n",
      "4                                          1              Owned by producer   \n",
      "..                                       ...                            ...   \n",
      "202                                   屏東縣瑪家鄉                        乾燥機、脫殼機   \n",
      "203                          2022臺南市精品咖啡評鑑批次   御香咖啡園 YU SIANG Coffee Estate   \n",
      "204                             AMNI-22-0905    BENEFICIO SANTA RITA, S. A.   \n",
      "205                          2022臺南市精品咖啡評鑑批次  金讚咖啡農莊園(Jinzan Coffee Estate)   \n",
      "206                                     0065                Washing Station   \n",
      "\n",
      "         ICO Number                       Company     Altitude  \\\n",
      "0               NaN      Taiwan Coffee Laboratory          400   \n",
      "1               NaN      Taiwan Coffee Laboratory         1200   \n",
      "2               NaN                     ISHIMITSU         1100   \n",
      "3               NaN  Doi Tung Development Project    1300-1500   \n",
      "4               NaN                 Mr.Brown Cafe     900-1000   \n",
      "..              ...                           ...          ...   \n",
      "202             NaN                    茂泰生技股份有限公司         1200   \n",
      "203             NaN      Taiwan Coffee Laboratory          650   \n",
      "204     11/54876/01  Asociación Nacional del Cafe  4895 A 5650   \n",
      "205             NaN      Taiwan Coffee Laboratory          668   \n",
      "206  010/ 0218/0065   Tadesse Desta import export         2361   \n",
      "\n",
      "                          Region  ... Total Cup Points  Moisture Percentage  \\\n",
      "0               玉里鎮Yuli Township  ...            84.50                 10.2   \n",
      "1                         Chiayi  ...            87.58                 10.5   \n",
      "2                            NaN  ...            80.50                 11.5   \n",
      "3              North of Thailand  ...            82.83                 11.8   \n",
      "4                   Sul de Minas  ...            81.75                 11.1   \n",
      "..                           ...  ...              ...                  ...   \n",
      "202                         台灣屏東  ...            84.75                 10.0   \n",
      "203  Dongshan Dist., Tainan City  ...            85.25                 11.3   \n",
      "204            ANTIGUA GUATEMALA  ...            83.83                 10.9   \n",
      "205  Dongshan Dist., Tainan City  ...            85.33                 11.3   \n",
      "206                  Addis Ababa  ...            84.33                 11.0   \n",
      "\n",
      "    Category One Defects Quakers         Color Category Two Defects  \\\n",
      "0                      0       0         green                    0   \n",
      "1                      0       0    blue-green                    0   \n",
      "2                      0       1      greenish                    3   \n",
      "3                      0       0  yellow-green                    5   \n",
      "4                      0       0  yellow-green                    0   \n",
      "..                   ...     ...           ...                  ...   \n",
      "202                    0       0    blue-green                    0   \n",
      "203                    0       0         green                    0   \n",
      "204                    0       1      greenish                    4   \n",
      "205                    0       0         green                    0   \n",
      "206                    0       5  yellow green                    4   \n",
      "\n",
      "               Expiration                  Certification Body  \\\n",
      "0     December 12th, 2023    Taiwan Coffee Laboratory 台灣咖啡研究室   \n",
      "1     November 15th, 2023    Taiwan Coffee Laboratory 台灣咖啡研究室   \n",
      "2         July 11th, 2023               Japan Coffee Exchange   \n",
      "3         July 14th, 2023              FABB Academy of Coffee   \n",
      "4     December 30th, 2023    Taiwan Coffee Laboratory 台灣咖啡研究室   \n",
      "..                    ...                                 ...   \n",
      "202   December 30th, 2023    Taiwan Coffee Laboratory 台灣咖啡研究室   \n",
      "203        June 8th, 2023    Taiwan Coffee Laboratory 台灣咖啡研究室   \n",
      "204        May 19th, 2023        Asociacion Nacional Del Café   \n",
      "205        June 8th, 2023    Taiwan Coffee Laboratory 台灣咖啡研究室   \n",
      "206  September 19th, 2023  METAD Agricultural Development plc   \n",
      "\n",
      "                                 Certification Address  \\\n",
      "0    QAHWAH CO., LTD 4F, No. 225, Sec. 3, Beixin Rd...   \n",
      "1    QAHWAH CO., LTD 4F, No. 225, Sec. 3, Beixin Rd...   \n",
      "2    〒413-0002 静岡県熱海市伊豆山１１７３−５８ 1173-58 Izusan, Ata...   \n",
      "3    FABB ACADEMY OF COFFEE 259/313 SUKHUMVIT 71 RD...   \n",
      "4    QAHWAH CO., LTD 4F, No. 225, Sec. 3, Beixin Rd...   \n",
      "..                                                 ...   \n",
      "202  QAHWAH CO., LTD 4F, No. 225, Sec. 3, Beixin Rd...   \n",
      "203  QAHWAH CO., LTD 4F, No. 225, Sec. 3, Beixin Rd...   \n",
      "204  5a Calle 0-50, Zona 14 Guatemala City, Guatema...   \n",
      "205  QAHWAH CO., LTD 4F, No. 225, Sec. 3, Beixin Rd...   \n",
      "206  BAWA Center, 3rd Floor (Gerji), Addis Ababa, E...   \n",
      "\n",
      "                                 Certification Contact  \n",
      "0                 Lin, Jen-An Neil 林仁安 - 886-289116612  \n",
      "1                 Lin, Jen-An Neil 林仁安 - 886-289116612  \n",
      "2              松澤　宏樹　Koju Matsuzawa - +81(0)9085642901  \n",
      "3          Janejira Kamonsawedkun - +(66) 095 095 9593  \n",
      "4                 Lin, Jen-An Neil 林仁安 - 886-289116612  \n",
      "..                                                 ...  \n",
      "202               Lin, Jen-An Neil 林仁安 - 886-289116612  \n",
      "203               Lin, Jen-An Neil 林仁安 - 886-289116612  \n",
      "204                                 Brayan Cifuentes -  \n",
      "205               Lin, Jen-An Neil 林仁安 - 886-289116612  \n",
      "206  Aman Adinew (Emebet Dinku) - +251-116-292534, ...  \n",
      "\n",
      "[207 rows x 41 columns]\n"
     ]
    }
   ],
   "source": [
    "df_shuffled = df.sample(frac=1).reset_index(drop=True)\n",
    "print(df_shuffled)"
   ]
  },
  {
   "cell_type": "code",
   "execution_count": 43,
   "id": "a6061b4a-e1fa-429a-989f-18c31d369171",
   "metadata": {
    "tags": []
   },
   "outputs": [],
   "source": [
    "# train_test_split\n",
    "x_train, x_test, y_train, y_test = train_test_split(x, y, \n",
    "                                                    test_size=0.2, \n",
    "                                                    random_state=0, \n",
    "                                            \n",
    "                                                    stratify=y)"
   ]
  },
  {
   "cell_type": "code",
   "execution_count": 45,
   "id": "ea13812c-b477-45e9-ba50-ad26b66e2e82",
   "metadata": {
    "tags": []
   },
   "outputs": [
    {
     "data": {
      "text/html": [
       "<div>\n",
       "<style scoped>\n",
       "    .dataframe tbody tr th:only-of-type {\n",
       "        vertical-align: middle;\n",
       "    }\n",
       "\n",
       "    .dataframe tbody tr th {\n",
       "        vertical-align: top;\n",
       "    }\n",
       "\n",
       "    .dataframe thead th {\n",
       "        text-align: right;\n",
       "    }\n",
       "</style>\n",
       "<table border=\"1\" class=\"dataframe\">\n",
       "  <thead>\n",
       "    <tr style=\"text-align: right;\">\n",
       "      <th></th>\n",
       "      <th>Aroma</th>\n",
       "      <th>Flavor</th>\n",
       "      <th>Aftertaste</th>\n",
       "      <th>Acidity</th>\n",
       "      <th>Body</th>\n",
       "      <th>Balance</th>\n",
       "      <th>Category Two Defects</th>\n",
       "      <th>Quakers</th>\n",
       "    </tr>\n",
       "  </thead>\n",
       "  <tbody>\n",
       "    <tr>\n",
       "      <th>95</th>\n",
       "      <td>7.58</td>\n",
       "      <td>7.83</td>\n",
       "      <td>7.58</td>\n",
       "      <td>7.75</td>\n",
       "      <td>7.67</td>\n",
       "      <td>7.75</td>\n",
       "      <td>2</td>\n",
       "      <td>1</td>\n",
       "    </tr>\n",
       "    <tr>\n",
       "      <th>187</th>\n",
       "      <td>7.33</td>\n",
       "      <td>7.42</td>\n",
       "      <td>7.25</td>\n",
       "      <td>7.42</td>\n",
       "      <td>7.42</td>\n",
       "      <td>7.33</td>\n",
       "      <td>4</td>\n",
       "      <td>2</td>\n",
       "    </tr>\n",
       "    <tr>\n",
       "      <th>117</th>\n",
       "      <td>7.67</td>\n",
       "      <td>7.67</td>\n",
       "      <td>7.50</td>\n",
       "      <td>7.67</td>\n",
       "      <td>7.58</td>\n",
       "      <td>7.67</td>\n",
       "      <td>0</td>\n",
       "      <td>2</td>\n",
       "    </tr>\n",
       "    <tr>\n",
       "      <th>175</th>\n",
       "      <td>7.17</td>\n",
       "      <td>7.50</td>\n",
       "      <td>7.42</td>\n",
       "      <td>7.42</td>\n",
       "      <td>7.58</td>\n",
       "      <td>7.50</td>\n",
       "      <td>0</td>\n",
       "      <td>0</td>\n",
       "    </tr>\n",
       "    <tr>\n",
       "      <th>70</th>\n",
       "      <td>7.83</td>\n",
       "      <td>7.92</td>\n",
       "      <td>7.75</td>\n",
       "      <td>7.75</td>\n",
       "      <td>7.75</td>\n",
       "      <td>7.75</td>\n",
       "      <td>3</td>\n",
       "      <td>0</td>\n",
       "    </tr>\n",
       "    <tr>\n",
       "      <th>...</th>\n",
       "      <td>...</td>\n",
       "      <td>...</td>\n",
       "      <td>...</td>\n",
       "      <td>...</td>\n",
       "      <td>...</td>\n",
       "      <td>...</td>\n",
       "      <td>...</td>\n",
       "      <td>...</td>\n",
       "    </tr>\n",
       "    <tr>\n",
       "      <th>37</th>\n",
       "      <td>8.25</td>\n",
       "      <td>8.08</td>\n",
       "      <td>7.83</td>\n",
       "      <td>7.75</td>\n",
       "      <td>7.67</td>\n",
       "      <td>7.75</td>\n",
       "      <td>0</td>\n",
       "      <td>0</td>\n",
       "    </tr>\n",
       "    <tr>\n",
       "      <th>114</th>\n",
       "      <td>7.75</td>\n",
       "      <td>7.75</td>\n",
       "      <td>7.50</td>\n",
       "      <td>7.58</td>\n",
       "      <td>7.83</td>\n",
       "      <td>7.50</td>\n",
       "      <td>2</td>\n",
       "      <td>0</td>\n",
       "    </tr>\n",
       "    <tr>\n",
       "      <th>135</th>\n",
       "      <td>7.67</td>\n",
       "      <td>7.67</td>\n",
       "      <td>7.50</td>\n",
       "      <td>7.58</td>\n",
       "      <td>7.58</td>\n",
       "      <td>7.50</td>\n",
       "      <td>0</td>\n",
       "      <td>0</td>\n",
       "    </tr>\n",
       "    <tr>\n",
       "      <th>24</th>\n",
       "      <td>7.83</td>\n",
       "      <td>8.00</td>\n",
       "      <td>7.92</td>\n",
       "      <td>8.00</td>\n",
       "      <td>8.00</td>\n",
       "      <td>7.92</td>\n",
       "      <td>0</td>\n",
       "      <td>0</td>\n",
       "    </tr>\n",
       "    <tr>\n",
       "      <th>169</th>\n",
       "      <td>7.75</td>\n",
       "      <td>7.42</td>\n",
       "      <td>7.33</td>\n",
       "      <td>7.50</td>\n",
       "      <td>7.33</td>\n",
       "      <td>7.50</td>\n",
       "      <td>5</td>\n",
       "      <td>0</td>\n",
       "    </tr>\n",
       "  </tbody>\n",
       "</table>\n",
       "<p>165 rows × 8 columns</p>\n",
       "</div>"
      ],
      "text/plain": [
       "     Aroma  Flavor  Aftertaste  Acidity  Body  Balance  Category Two Defects  \\\n",
       "95    7.58    7.83        7.58     7.75  7.67     7.75                     2   \n",
       "187   7.33    7.42        7.25     7.42  7.42     7.33                     4   \n",
       "117   7.67    7.67        7.50     7.67  7.58     7.67                     0   \n",
       "175   7.17    7.50        7.42     7.42  7.58     7.50                     0   \n",
       "70    7.83    7.92        7.75     7.75  7.75     7.75                     3   \n",
       "..     ...     ...         ...      ...   ...      ...                   ...   \n",
       "37    8.25    8.08        7.83     7.75  7.67     7.75                     0   \n",
       "114   7.75    7.75        7.50     7.58  7.83     7.50                     2   \n",
       "135   7.67    7.67        7.50     7.58  7.58     7.50                     0   \n",
       "24    7.83    8.00        7.92     8.00  8.00     7.92                     0   \n",
       "169   7.75    7.42        7.33     7.50  7.33     7.50                     5   \n",
       "\n",
       "     Quakers  \n",
       "95         1  \n",
       "187        2  \n",
       "117        2  \n",
       "175        0  \n",
       "70         0  \n",
       "..       ...  \n",
       "37         0  \n",
       "114        0  \n",
       "135        0  \n",
       "24         0  \n",
       "169        0  \n",
       "\n",
       "[165 rows x 8 columns]"
      ]
     },
     "execution_count": 45,
     "metadata": {},
     "output_type": "execute_result"
    }
   ],
   "source": [
    "x_train"
   ]
  },
  {
   "cell_type": "code",
   "execution_count": 47,
   "id": "55ffc6f3-ec34-4dcb-a932-ca085b4b7505",
   "metadata": {
    "tags": []
   },
   "outputs": [
    {
     "data": {
      "text/plain": [
       "95     Guatemala\n",
       "187        Other\n",
       "117        Other\n",
       "175        Other\n",
       "70         Other\n",
       "         ...    \n",
       "37        Taiwan\n",
       "114        Other\n",
       "135       Taiwan\n",
       "24        Taiwan\n",
       "169        Other\n",
       "Name: Country of Origin, Length: 165, dtype: object"
      ]
     },
     "execution_count": 47,
     "metadata": {},
     "output_type": "execute_result"
    }
   ],
   "source": [
    "y_train"
   ]
  },
  {
   "cell_type": "code",
   "execution_count": 49,
   "id": "b771b1c2-8852-431e-9774-498d7f5cabf5",
   "metadata": {
    "tags": []
   },
   "outputs": [
    {
     "name": "stdout",
     "output_type": "stream",
     "text": [
      "Shape of x_train (165, 8)\n"
     ]
    }
   ],
   "source": [
    "print(\"Shape of x_train\", x_train.shape)"
   ]
  },
  {
   "cell_type": "code",
   "execution_count": 51,
   "id": "73fbe71f-30fe-47fa-9d4a-f68608f96fbe",
   "metadata": {
    "tags": []
   },
   "outputs": [
    {
     "name": "stdout",
     "output_type": "stream",
     "text": [
      "[[-0.45595731  0.3171796  -0.04434499 ...  0.43292822 -0.09347049\n",
      "   0.19863234]\n",
      " [-1.3128247  -1.10854798 -1.18329994 ... -1.17231124  0.59197979\n",
      "   0.79452936]\n",
      " [-0.14748505 -0.23920189 -0.32045528 ...  0.12716832 -0.77892078\n",
      "   0.79452936]\n",
      " ...\n",
      " [-0.14748505 -0.23920189 -0.32045528 ... -0.52257146 -0.77892078\n",
      "  -0.39726468]\n",
      " [ 0.40091007  0.90833494  1.12912376 ...  1.082668   -0.77892078\n",
      "  -0.39726468]\n",
      " [ 0.12671251 -1.10854798 -0.90718965 ... -0.52257146  0.93470493\n",
      "  -0.39726468]]\n"
     ]
    }
   ],
   "source": [
    "# Standardiser la donnée d'entrainement\n",
    "standard_scaler = StandardScaler()\n",
    "# Calcul automatique de la moyenne et de l'écart type sur les valeurs\n",
    "standard_scaler.fit(x_train)\n",
    "# Transformation des données d'entraînement depuis ce dernier calcul\n",
    "x_train=standard_scaler.transform (x_train)\n",
    "print(x_train)"
   ]
  },
  {
   "cell_type": "code",
   "execution_count": 53,
   "id": "bd8a2d61-19ea-4abf-8fbe-33d668bb8cb5",
   "metadata": {
    "tags": []
   },
   "outputs": [],
   "source": [
    "x_test=standard_scaler.transform (x_test)"
   ]
  },
  {
   "cell_type": "code",
   "execution_count": 55,
   "id": "e68f0b17-3cfd-4d87-baa9-9d0ba7cc8592",
   "metadata": {
    "tags": []
   },
   "outputs": [
    {
     "name": "stdout",
     "output_type": "stream",
     "text": [
      "[0 1 1 1 1]\n",
      "\n"
     ]
    }
   ],
   "source": [
    "# Encodage des labels d'entrainement\n",
    "labelencoder = LabelEncoder()\n",
    "# Transformation des labels\n",
    "y_train = labelencoder.fit_transform(y_train)\n",
    "y_test = labelencoder.fit_transform(y_test)\n",
    "print(y_train[:5]) # Afficher les 5 premières lignes\n",
    "print ()"
   ]
  },
  {
   "cell_type": "code",
   "execution_count": 57,
   "id": "bca59192-fc57-445b-8d71-8d59ec3344f9",
   "metadata": {
    "tags": []
   },
   "outputs": [
    {
     "data": {
      "text/plain": [
       "array(['Guatemala', 'Other', 'Taiwan'], dtype=object)"
      ]
     },
     "execution_count": 57,
     "metadata": {},
     "output_type": "execute_result"
    }
   ],
   "source": [
    "# vérifier les labels attribués aux valeurs de la colonne\n",
    "# numéros de class\n",
    "labelencoder.classes_"
   ]
  },
  {
   "cell_type": "code",
   "execution_count": 59,
   "id": "7dfe338e-a1d5-425c-96c6-b0671e377808",
   "metadata": {
    "tags": []
   },
   "outputs": [
    {
     "data": {
      "text/html": [
       "<style>#sk-container-id-1 {color: black;background-color: white;}#sk-container-id-1 pre{padding: 0;}#sk-container-id-1 div.sk-toggleable {background-color: white;}#sk-container-id-1 label.sk-toggleable__label {cursor: pointer;display: block;width: 100%;margin-bottom: 0;padding: 0.3em;box-sizing: border-box;text-align: center;}#sk-container-id-1 label.sk-toggleable__label-arrow:before {content: \"▸\";float: left;margin-right: 0.25em;color: #696969;}#sk-container-id-1 label.sk-toggleable__label-arrow:hover:before {color: black;}#sk-container-id-1 div.sk-estimator:hover label.sk-toggleable__label-arrow:before {color: black;}#sk-container-id-1 div.sk-toggleable__content {max-height: 0;max-width: 0;overflow: hidden;text-align: left;background-color: #f0f8ff;}#sk-container-id-1 div.sk-toggleable__content pre {margin: 0.2em;color: black;border-radius: 0.25em;background-color: #f0f8ff;}#sk-container-id-1 input.sk-toggleable__control:checked~div.sk-toggleable__content {max-height: 200px;max-width: 100%;overflow: auto;}#sk-container-id-1 input.sk-toggleable__control:checked~label.sk-toggleable__label-arrow:before {content: \"▾\";}#sk-container-id-1 div.sk-estimator input.sk-toggleable__control:checked~label.sk-toggleable__label {background-color: #d4ebff;}#sk-container-id-1 div.sk-label input.sk-toggleable__control:checked~label.sk-toggleable__label {background-color: #d4ebff;}#sk-container-id-1 input.sk-hidden--visually {border: 0;clip: rect(1px 1px 1px 1px);clip: rect(1px, 1px, 1px, 1px);height: 1px;margin: -1px;overflow: hidden;padding: 0;position: absolute;width: 1px;}#sk-container-id-1 div.sk-estimator {font-family: monospace;background-color: #f0f8ff;border: 1px dotted black;border-radius: 0.25em;box-sizing: border-box;margin-bottom: 0.5em;}#sk-container-id-1 div.sk-estimator:hover {background-color: #d4ebff;}#sk-container-id-1 div.sk-parallel-item::after {content: \"\";width: 100%;border-bottom: 1px solid gray;flex-grow: 1;}#sk-container-id-1 div.sk-label:hover label.sk-toggleable__label {background-color: #d4ebff;}#sk-container-id-1 div.sk-serial::before {content: \"\";position: absolute;border-left: 1px solid gray;box-sizing: border-box;top: 0;bottom: 0;left: 50%;z-index: 0;}#sk-container-id-1 div.sk-serial {display: flex;flex-direction: column;align-items: center;background-color: white;padding-right: 0.2em;padding-left: 0.2em;position: relative;}#sk-container-id-1 div.sk-item {position: relative;z-index: 1;}#sk-container-id-1 div.sk-parallel {display: flex;align-items: stretch;justify-content: center;background-color: white;position: relative;}#sk-container-id-1 div.sk-item::before, #sk-container-id-1 div.sk-parallel-item::before {content: \"\";position: absolute;border-left: 1px solid gray;box-sizing: border-box;top: 0;bottom: 0;left: 50%;z-index: -1;}#sk-container-id-1 div.sk-parallel-item {display: flex;flex-direction: column;z-index: 1;position: relative;background-color: white;}#sk-container-id-1 div.sk-parallel-item:first-child::after {align-self: flex-end;width: 50%;}#sk-container-id-1 div.sk-parallel-item:last-child::after {align-self: flex-start;width: 50%;}#sk-container-id-1 div.sk-parallel-item:only-child::after {width: 0;}#sk-container-id-1 div.sk-dashed-wrapped {border: 1px dashed gray;margin: 0 0.4em 0.5em 0.4em;box-sizing: border-box;padding-bottom: 0.4em;background-color: white;}#sk-container-id-1 div.sk-label label {font-family: monospace;font-weight: bold;display: inline-block;line-height: 1.2em;}#sk-container-id-1 div.sk-label-container {text-align: center;}#sk-container-id-1 div.sk-container {/* jupyter's `normalize.less` sets `[hidden] { display: none; }` but bootstrap.min.css set `[hidden] { display: none !important; }` so we also need the `!important` here to be able to override the default hidden behavior on the sphinx rendered scikit-learn.org. See: https://github.com/scikit-learn/scikit-learn/issues/21755 */display: inline-block !important;position: relative;}#sk-container-id-1 div.sk-text-repr-fallback {display: none;}</style><div id=\"sk-container-id-1\" class=\"sk-top-container\"><div class=\"sk-text-repr-fallback\"><pre>LogisticRegression()</pre><b>In a Jupyter environment, please rerun this cell to show the HTML representation or trust the notebook. <br />On GitHub, the HTML representation is unable to render, please try loading this page with nbviewer.org.</b></div><div class=\"sk-container\" hidden><div class=\"sk-item\"><div class=\"sk-estimator sk-toggleable\"><input class=\"sk-toggleable__control sk-hidden--visually\" id=\"sk-estimator-id-1\" type=\"checkbox\" checked><label for=\"sk-estimator-id-1\" class=\"sk-toggleable__label sk-toggleable__label-arrow\">LogisticRegression</label><div class=\"sk-toggleable__content\"><pre>LogisticRegression()</pre></div></div></div></div></div>"
      ],
      "text/plain": [
       "LogisticRegression()"
      ]
     },
     "execution_count": 59,
     "metadata": {},
     "output_type": "execute_result"
    }
   ],
   "source": [
    "# instancier la regression logistique\n",
    "log_regression = LogisticRegression()\n",
    "# entraine la regression logistique sur x_train et y_train\n",
    "log_regression.fit(x_train, y_train)"
   ]
  },
  {
   "cell_type": "code",
   "execution_count": 61,
   "id": "06f22645-0018-4c1a-9ef3-f9fb0c4e0673",
   "metadata": {
    "tags": []
   },
   "outputs": [
    {
     "data": {
      "text/plain": [
       "0.7515151515151515"
      ]
     },
     "execution_count": 61,
     "metadata": {},
     "output_type": "execute_result"
    }
   ],
   "source": [
    "# Créer des prédictions à partir des entraînements\n",
    "y_test_pred = log_regression.predict(x_test)\n",
    "# Calcul du score\n",
    "log_regression.score(x_train, y_train)"
   ]
  },
  {
   "cell_type": "code",
   "execution_count": 63,
   "id": "03857d3d-ba6e-4d0a-bdad-291e55cadd37",
   "metadata": {},
   "outputs": [
    {
     "data": {
      "text/plain": [
       "0.7619047619047619"
      ]
     },
     "execution_count": 63,
     "metadata": {},
     "output_type": "execute_result"
    }
   ],
   "source": [
    "# Calcul du score\n",
    "log_regression.score(x_test, y_test)"
   ]
  },
  {
   "cell_type": "code",
   "execution_count": null,
   "id": "734bcbef-1a63-4e69-a782-87bc9f21f4be",
   "metadata": {},
   "outputs": [],
   "source": []
  },
  {
   "cell_type": "code",
   "execution_count": null,
   "id": "e17dfb85-f16b-42ae-9957-b0851cb30d1e",
   "metadata": {},
   "outputs": [],
   "source": []
  }
 ],
 "metadata": {
  "kernelspec": {
   "display_name": "Python 3 (ipykernel)",
   "language": "python",
   "name": "python3"
  },
  "language_info": {
   "codemirror_mode": {
    "name": "ipython",
    "version": 3
   },
   "file_extension": ".py",
   "mimetype": "text/x-python",
   "name": "python",
   "nbconvert_exporter": "python",
   "pygments_lexer": "ipython3",
   "version": "3.11.7"
  }
 },
 "nbformat": 4,
 "nbformat_minor": 5
}
